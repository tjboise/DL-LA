{
 "cells": [
  {
   "cell_type": "code",
   "execution_count": 1,
   "id": "b86f2cfb",
   "metadata": {},
   "outputs": [],
   "source": [
    "import numpy as np\n",
    "from tqdm import tqdm\n",
    "from random import random\n",
    "from tqdm import tnrange\n",
    "import time\n",
    "import pickle\n",
    "\n"
   ]
  },
  {
   "cell_type": "code",
   "execution_count": 1,
   "id": "5bc1938f",
   "metadata": {},
   "outputs": [],
   "source": [
    "def loadTextMatrix(fileName, numCols=16): # For Text document, it 16 byte Plaintext as an arrya\n",
    "    \"\"\"\n",
    "    file format: hex values delimited by spaces\n",
    "    MAKE sure that there is no space at the end of line\n",
    "    \"\"\"\n",
    "    return np.loadtxt(\n",
    "        fileName, dtype='uint8', delimiter=' ',\n",
    "        converters={_: lambda s: int(s, 16) for _ in range(numCols)})"
   ]
  },
  {
   "cell_type": "code",
   "execution_count": 6,
   "id": "5847cf19",
   "metadata": {},
   "outputs": [
    {
     "name": "stdout",
     "output_type": "stream",
     "text": [
      "23 d1 a8 7b 96 d3 9c 83 5e 28 d6 ab 0e 3c 5c 44 "
     ]
    }
   ],
   "source": [
    "SetPTArr = loadTextMatrix('plaintext_10k.txt')\n",
    "SetPTArr[0]\n",
    "for b in SetPTArr[1]: print(\"%02x \" % b, end=\"\")\n",
    "#text1Out=SetPTArr[:2392]\n",
    "#text1Out.shape"
   ]
  },
  {
   "cell_type": "code",
   "execution_count": 2,
   "id": "2820e080",
   "metadata": {},
   "outputs": [],
   "source": [
    "SetTraceArr =np.load('powerTraces.npy')"
   ]
  },
  {
   "cell_type": "code",
   "execution_count": 5,
   "id": "3efaeed6",
   "metadata": {},
   "outputs": [
    {
     "data": {
      "text/plain": [
       "(25000,)"
      ]
     },
     "execution_count": 5,
     "metadata": {},
     "output_type": "execute_result"
    }
   ],
   "source": [
    "SetTraceArr.shape"
   ]
  },
  {
   "cell_type": "code",
   "execution_count": 9,
   "id": "024d87be",
   "metadata": {},
   "outputs": [],
   "source": [
    "raw_traces=np.empty((2000,25000))"
   ]
  },
  {
   "cell_type": "code",
   "execution_count": 12,
   "id": "3c9badde",
   "metadata": {},
   "outputs": [],
   "source": [
    "def adjustSampleSize(sampleLength, dataArray):\n",
    "\t\t#print \"\\tAdjusting Sample Size to ->\" + str(sampleLength)\n",
    "\t\ttemp = dataArray.shape\n",
    "\t\tnewDataArray = dataArray\n",
    "\t\tarrLen = temp[0]\n",
    "\t\t#print \"Array Length --> \" + str(arrLen)\n",
    "\t\tif (arrLen == sampleLength):\n",
    "\t\t\t\n",
    "\t\t\treturn dataArray\n",
    "\t\t\t\n",
    "\t\telif (arrLen > sampleLength):\n",
    "\t\t\t\n",
    "\t\t\tdiff = arrLen-sampleLength\n",
    "\t\t\tfor count in range(0,diff):\n",
    "\t\t\t\tnewDataArray = np.delete(newDataArray, -1, 0)\n",
    "\t\t\treturn newDataArray\t\n",
    "\t\t\t\n",
    "\t\telif (arrLen < sampleLength):\n",
    "\t\t\t\n",
    "\t\t\tdiff = sampleLength-arrLen\n",
    "\t\t\tfor count in range (0,diff):\n",
    "\t\t\t\tnewDataArray = np.append(newDataArray,0)\n",
    "\t\t\treturn newDataArray"
   ]
  },
  {
   "cell_type": "code",
   "execution_count": 15,
   "id": "5d12fc28",
   "metadata": {},
   "outputs": [],
   "source": [
    "measurementFile = open('powerTraces.npy', 'r')\n",
    "for traceCount in range (0,2000):\n",
    "\t\t#print \"traceCount= \" + str(traceCount)\n",
    "\t\ttempArrayMeasurement = np.load('powerTraces.npy')\n",
    "\t\ttempArrayMeasurement = adjustSampleSize(25000, tempArrayMeasurement)\n",
    "\t\traw_traces[traceCount,:] = tempArrayMeasurement"
   ]
  },
  {
   "cell_type": "code",
   "execution_count": 16,
   "id": "6520139d",
   "metadata": {},
   "outputs": [
    {
     "data": {
      "text/plain": [
       "array([[-0.00278051,  0.00370632,  0.00278051, ...,  0.00556102,\n",
       "         0.        , -0.00463521],\n",
       "       [-0.00278051,  0.00370632,  0.00278051, ...,  0.00556102,\n",
       "         0.        , -0.00463521],\n",
       "       [-0.00278051,  0.00370632,  0.00278051, ...,  0.00556102,\n",
       "         0.        , -0.00463521],\n",
       "       ...,\n",
       "       [-0.00278051,  0.00370632,  0.00278051, ...,  0.00556102,\n",
       "         0.        , -0.00463521],\n",
       "       [-0.00278051,  0.00370632,  0.00278051, ...,  0.00556102,\n",
       "         0.        , -0.00463521],\n",
       "       [-0.00278051,  0.00370632,  0.00278051, ...,  0.00556102,\n",
       "         0.        , -0.00463521]])"
      ]
     },
     "execution_count": 16,
     "metadata": {},
     "output_type": "execute_result"
    }
   ],
   "source": [
    "raw_traces"
   ]
  },
  {
   "cell_type": "code",
   "execution_count": 17,
   "id": "f26cf228",
   "metadata": {},
   "outputs": [
    {
     "data": {
      "text/plain": [
       "(2000, 25000)"
      ]
     },
     "execution_count": 17,
     "metadata": {},
     "output_type": "execute_result"
    }
   ],
   "source": [
    "raw_traces.shape"
   ]
  }
 ],
 "metadata": {
  "kernelspec": {
   "display_name": "Python 3 (ipykernel)",
   "language": "python",
   "name": "python3"
  },
  "language_info": {
   "codemirror_mode": {
    "name": "ipython",
    "version": 3
   },
   "file_extension": ".py",
   "mimetype": "text/x-python",
   "name": "python",
   "nbconvert_exporter": "python",
   "pygments_lexer": "ipython3",
   "version": "3.8.10"
  }
 },
 "nbformat": 4,
 "nbformat_minor": 5
}
